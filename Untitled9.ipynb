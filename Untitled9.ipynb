{
 "cells": [
  {
   "cell_type": "code",
   "execution_count": 3,
   "id": "f7d998ce-e670-420f-a9ed-c63b730baa30",
   "metadata": {},
   "outputs": [
    {
     "name": "stdout",
     "output_type": "stream",
     "text": [
      "Baby Photo Banner - Brown\n",
      "seller_name Babyhug\n",
      "170\n",
      "50\n"
     ]
    },
    {
     "name": "stderr",
     "output_type": "stream",
     "text": [
      "C:\\Users\\LP-281\\AppData\\Local\\Temp\\ipykernel_15884\\3724555841.py:22: DeprecationWarning: The 'text' argument to find()-type methods is deprecated. Use 'string' instead.\n",
      "  seller_name = span.find_all(text=True, recursive=False)\n"
     ]
    }
   ],
   "source": [
    "selling_price = None\n",
    "price_element = None\n",
    "from bs4 import BeautifulSoup\n",
    "from selenium import webdriver\n",
    "from selenium.webdriver.chrome.service import Service\n",
    "from selenium.webdriver.chrome.options import Options\n",
    "from webdriver_manager.chrome import ChromeDriverManager\n",
    "from selenium.webdriver.common.by import By\n",
    "driver = webdriver.Chrome(service=Service(ChromeDriverManager().install()))\n",
    "driver.get(\"https://www.firstcry.com/babyhug/babyhug-baby-photo-banner-brown/10880836/product-detail\")\n",
    "#element = driver.find_element(By.section, \"th-description\")\n",
    "#section = driver.find_element(By.CLASS_NAME, \"sec-description revamppos-rel2stat\")\n",
    "element = driver.find_element(By.TAG_NAME, \"section\")\n",
    "html_content = element.get_attribute(\"innerHTML\")\n",
    "#print(html_content)\n",
    "driver.quit()\n",
    "soup=BeautifulSoup(html_content,'html.parser')\n",
    "title=soup.find(class_='J14R_42')\n",
    "print(title.text)\n",
    "seller_spans= soup.find_all(\"span\", class_=\"J14SB_42 cl_21\")\n",
    "for span in seller_spans:\n",
    "    seller_name = span.find_all(text=True, recursive=False)  \n",
    "    seller_names=\"\".join(seller_name).strip()\n",
    "print(\"seller_name\",seller_names)\n",
    "selling_price=soup.find(\"span\",class_=\"prod-price J15B_42 cl_21\")\n",
    "for j in selling_price:\n",
    "    print(j.text)"
   ]
  },
  {
   "cell_type": "code",
   "execution_count": null,
   "id": "dd54a91e-d6ad-4287-95ed-48315fac6c69",
   "metadata": {},
   "outputs": [],
   "source": []
  }
 ],
 "metadata": {
  "kernelspec": {
   "display_name": "Python 3 (ipykernel)",
   "language": "python",
   "name": "python3"
  },
  "language_info": {
   "codemirror_mode": {
    "name": "ipython",
    "version": 3
   },
   "file_extension": ".py",
   "mimetype": "text/x-python",
   "name": "python",
   "nbconvert_exporter": "python",
   "pygments_lexer": "ipython3",
   "version": "3.12.7"
  }
 },
 "nbformat": 4,
 "nbformat_minor": 5
}
